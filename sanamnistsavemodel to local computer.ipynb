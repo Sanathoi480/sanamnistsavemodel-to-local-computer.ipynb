{
 "cells": [
  {
   "cell_type": "code",
   "execution_count": 5,
   "id": "2f2f3314-9e53-4efc-bd58-4d705fa9b8cc",
   "metadata": {},
   "outputs": [
    {
     "name": "stdout",
     "output_type": "stream",
     "text": [
      "Epoch 1/5\n",
      "1688/1688 [==============================] - 28s 16ms/step - loss: 0.1643 - accuracy: 0.9500 - val_loss: 0.0633 - val_accuracy: 0.9813\n",
      "Epoch 2/5\n",
      "1688/1688 [==============================] - 36s 21ms/step - loss: 0.0513 - accuracy: 0.9836 - val_loss: 0.0443 - val_accuracy: 0.9868\n",
      "Epoch 3/5\n",
      "1688/1688 [==============================] - 39s 23ms/step - loss: 0.0372 - accuracy: 0.9881 - val_loss: 0.0394 - val_accuracy: 0.9882\n",
      "Epoch 4/5\n",
      "1688/1688 [==============================] - 27s 16ms/step - loss: 0.0272 - accuracy: 0.9911 - val_loss: 0.0410 - val_accuracy: 0.9897\n",
      "Epoch 5/5\n",
      "1688/1688 [==============================] - 32s 19ms/step - loss: 0.0226 - accuracy: 0.9928 - val_loss: 0.0365 - val_accuracy: 0.9913\n"
     ]
    },
    {
     "data": {
      "text/plain": [
       "<keras.callbacks.History at 0x19ba82c0970>"
      ]
     },
     "execution_count": 5,
     "metadata": {},
     "output_type": "execute_result"
    }
   ],
   "source": [
    "import tensorflow as tf\n",
    "from tensorflow.keras import layers, models\n",
    "from tensorflow.keras.models import load_model\n",
    "# Load and preprocess the MNIST dataset\n",
    "mnist = tf.keras.datasets.mnist\n",
    "(x_train, y_train), (x_test, y_test) = mnist.load_data()\n",
    "x_train = x_train.reshape((60000, 28, 28, 1)).astype('float32') / 255\n",
    "x_test = x_test.reshape((10000, 28, 28, 1)).astype('float32') / 255\n",
    "\n",
    "# Build the model\n",
    "model = models.Sequential([\n",
    "    layers.Conv2D(32, (3, 3), activation='relu', input_shape=(28, 28, 1)),\n",
    "    layers.MaxPooling2D((2, 2)),\n",
    "    layers.Conv2D(64, (3, 3), activation='relu'),\n",
    "    layers.MaxPooling2D((2, 2)),\n",
    "    layers.Conv2D(64, (3, 3), activation='relu'),\n",
    "    layers.Flatten(),\n",
    "    layers.Dense(64, activation='relu'),\n",
    "    layers.Dense(10, activation='softmax')\n",
    "])\n",
    "\n",
    "# Compile the model\n",
    "model.compile(optimizer='adam', loss='sparse_categorical_crossentropy', metrics=['accuracy'])\n",
    "\n",
    "# Train the model\n",
    "model.fit(x_train, y_train, epochs=5, validation_split=0.1)\n"
   ]
  },
  {
   "cell_type": "code",
   "execution_count": 6,
   "id": "8da723e5-a68b-4d53-997b-ec2cda260228",
   "metadata": {},
   "outputs": [],
   "source": [
    "# Save the model to a file\n",
    "model.save('mnist_model.h5')  # The model will be saved in the current working directory\n"
   ]
  },
  {
   "cell_type": "code",
   "execution_count": 7,
   "id": "502062d2-0118-4ea4-84b3-4a7473819016",
   "metadata": {},
   "outputs": [
    {
     "name": "stdout",
     "output_type": "stream",
     "text": [
      "['.anaconda', '.cache', '.conda', '.condarc', '.continuum', '.idlerc', '.ipynb_checkpoints', '.ipython', '.jupyter', '.keras', '.matplotlib', '.packettracer', '.redhat', '.vscode', 'anaconda3', 'AppData', 'Application Data', 'bootstrap', 'Cisco Packet Tracer 6.1.1sv', 'Contacts', 'Cookies', 'Desktop', 'Documents', 'Downloads', 'Favorites', 'IntelGraphicsProfiles', 'Links', 'Local Settings', 'mnistsavedgoogledrive.ipynb', 'mnist_model.h5', 'Music', 'My Documents', 'NetHood', 'NTUSER.DAT', 'ntuser.dat.LOG1', 'ntuser.dat.LOG2', 'NTUSER.DAT{e1816b96-81c8-11ed-b952-005056c00008}.TM.blf', 'NTUSER.DAT{e1816b96-81c8-11ed-b952-005056c00008}.TMContainer00000000000000000001.regtrans-ms', 'NTUSER.DAT{e1816b96-81c8-11ed-b952-005056c00008}.TMContainer00000000000000000002.regtrans-ms', 'ntuser.ini', 'OneDrive', 'Pictures', 'PrintHood', 'Recent', 'sanamnistsavemodel to local computer.ipynb', 'Saved Games', 'Searches', 'SendTo', 'spam project', 'Start Menu', 'Templates', 'Untitled.ipynb', 'Untitled1.ipynb', 'Videos']\n"
     ]
    }
   ],
   "source": [
    "import os\n",
    "\n",
    "# List files in the current directory\n",
    "print(os.listdir())\n"
   ]
  },
  {
   "cell_type": "code",
   "execution_count": 8,
   "id": "b2e6b16b-6015-4f2a-b723-c5114d79f7ca",
   "metadata": {},
   "outputs": [
    {
     "name": "stdout",
     "output_type": "stream",
     "text": [
      "Current directory: C:\\Users\\Cyber\n"
     ]
    }
   ],
   "source": [
    "import os\n",
    "\n",
    "# Get the current working directory\n",
    "current_directory = os.getcwd()\n",
    "print(\"Current directory:\", current_directory)\n"
   ]
  },
  {
   "cell_type": "code",
   "execution_count": 9,
   "id": "b7ac7a20-54c7-46b2-9c9c-36397a771b47",
   "metadata": {},
   "outputs": [
    {
     "name": "stdout",
     "output_type": "stream",
     "text": [
      "Files in the current directory: ['.anaconda', '.cache', '.conda', '.condarc', '.continuum', '.idlerc', '.ipynb_checkpoints', '.ipython', '.jupyter', '.keras', '.matplotlib', '.packettracer', '.redhat', '.vscode', 'anaconda3', 'AppData', 'Application Data', 'bootstrap', 'Cisco Packet Tracer 6.1.1sv', 'Contacts', 'Cookies', 'Desktop', 'Documents', 'Downloads', 'Favorites', 'IntelGraphicsProfiles', 'Links', 'Local Settings', 'mnistsavedgoogledrive.ipynb', 'mnist_model.h5', 'Music', 'My Documents', 'NetHood', 'NTUSER.DAT', 'ntuser.dat.LOG1', 'ntuser.dat.LOG2', 'NTUSER.DAT{e1816b96-81c8-11ed-b952-005056c00008}.TM.blf', 'NTUSER.DAT{e1816b96-81c8-11ed-b952-005056c00008}.TMContainer00000000000000000001.regtrans-ms', 'NTUSER.DAT{e1816b96-81c8-11ed-b952-005056c00008}.TMContainer00000000000000000002.regtrans-ms', 'ntuser.ini', 'OneDrive', 'Pictures', 'PrintHood', 'Recent', 'sanamnistsavemodel to local computer.ipynb', 'Saved Games', 'Searches', 'SendTo', 'spam project', 'Start Menu', 'Templates', 'Untitled.ipynb', 'Untitled1.ipynb', 'Videos']\n"
     ]
    }
   ],
   "source": [
    "# List all files in the current directory\n",
    "files = os.listdir(current_directory)\n",
    "print(\"Files in the current directory:\", files)\n"
   ]
  },
  {
   "cell_type": "code",
   "execution_count": 10,
   "id": "9f1d6ac3-c15a-4bda-ba2a-b2b971fc4d41",
   "metadata": {},
   "outputs": [],
   "source": [
    "#loading the model later on when needed \n",
    "from tensorflow.keras.models import load_model\n",
    "\n",
    "# Load the model\n",
    "loaded_model = load_model('mnist_model.h5')\n"
   ]
  },
  {
   "cell_type": "code",
   "execution_count": 11,
   "id": "0903de07-73fa-4a1d-8a6c-fca031e8555e",
   "metadata": {},
   "outputs": [
    {
     "name": "stdout",
     "output_type": "stream",
     "text": [
      "313/313 [==============================] - 1s 3ms/step - loss: 0.0320 - accuracy: 0.9906\n",
      "Test accuracy: 0.9905999898910522\n",
      "Test loss: 0.03201489523053169\n"
     ]
    }
   ],
   "source": [
    "#To evaluate the model on the test dataset, you can use the following code:\n",
    "# Load and preprocess the MNIST test dataset\n",
    "mnist = tf.keras.datasets.mnist\n",
    "(_, _), (x_test, y_test) = mnist.load_data()\n",
    "x_test = x_test.reshape((10000, 28, 28, 1)).astype('float32') / 255\n",
    "\n",
    "# Evaluate the model\n",
    "test_loss, test_accuracy = model.evaluate(x_test, y_test)\n",
    "print(\"Test accuracy:\", test_accuracy)\n",
    "print(\"Test loss:\", test_loss)\n"
   ]
  },
  {
   "cell_type": "code",
   "execution_count": 1,
   "id": "75158984-03c4-4ab0-bb69-cf0a8bc919e8",
   "metadata": {},
   "outputs": [
    {
     "ename": "NameError",
     "evalue": "name 'model' is not defined",
     "output_type": "error",
     "traceback": [
      "\u001b[1;31m---------------------------------------------------------------------------\u001b[0m",
      "\u001b[1;31mNameError\u001b[0m                                 Traceback (most recent call last)",
      "Cell \u001b[1;32mIn[1], line 4\u001b[0m\n\u001b[0;32m      1\u001b[0m \u001b[38;5;66;03m#Make Predictions\u001b[39;00m\n\u001b[0;32m      2\u001b[0m \u001b[38;5;66;03m#You can also use the model to make predictions on new data:\u001b[39;00m\n\u001b[0;32m      3\u001b[0m \u001b[38;5;66;03m# Make predictions on the test dataset\u001b[39;00m\n\u001b[1;32m----> 4\u001b[0m predictions \u001b[38;5;241m=\u001b[39m \u001b[43mmodel\u001b[49m\u001b[38;5;241m.\u001b[39mpredict(x_test)\n\u001b[0;32m      6\u001b[0m \u001b[38;5;66;03m# Example: Get the predicted class for the first test sample\u001b[39;00m\n\u001b[0;32m      7\u001b[0m predicted_class \u001b[38;5;241m=\u001b[39m predictions[\u001b[38;5;241m0\u001b[39m]\u001b[38;5;241m.\u001b[39margmax()\n",
      "\u001b[1;31mNameError\u001b[0m: name 'model' is not defined"
     ]
    }
   ],
   "source": [
    "#Make Predictions\n",
    "#You can also use the model to make predictions on new data:\n",
    "# Make predictions on the test dataset\n",
    "predictions = model.predict(x_test)\n",
    "\n",
    "# Example: Get the predicted class for the first test sample\n",
    "predicted_class = predictions[0].argmax()\n",
    "print(\"Predicted class for the first sample:\", predicted_class)\n",
    "\n",
    "# Optionally, display the actual image\n",
    "import matplotlib.pyplot as plt\n",
    "\n",
    "plt.imshow(x_test[0].reshape(28, 28), cmap='gray')\n",
    "plt.title(f\"Predicted class: {predicted_class}\")\n",
    "plt.show()\n",
    "\n"
   ]
  },
  {
   "cell_type": "code",
   "execution_count": 1,
   "id": "8296fbcf-8090-4f11-a5d5-d866a353169e",
   "metadata": {},
   "outputs": [],
   "source": [
    "#Fine-Tune the Model (Optional)\n",
    "#If you want to continue training (fine-tune) the model with more data, you can do it like this:\n",
    "# Continue training the model on new data (if available)\n",
    "# Assuming you have new training data (x_new, y_new)\n",
    "# model.fit(x_new, y_new, epochs=5, validation_split=0.1)\n"
   ]
  },
  {
   "cell_type": "code",
   "execution_count": null,
   "id": "0b56c0d1-be54-4cf7-9716-1522f3bc277f",
   "metadata": {},
   "outputs": [],
   "source": [
    "#Summary\n",
    "#Load the model using load_model.\n",
    "#Evaluate the model using evaluate.\n",
    "#Make predictions using predict.\n",
    "#Fine-tune the model if needed.\n",
    "#This code will allow you to effectively continue working with your loaded model."
   ]
  }
 ],
 "metadata": {
  "kernelspec": {
   "display_name": "Python 3 (ipykernel)",
   "language": "python",
   "name": "python3"
  },
  "language_info": {
   "codemirror_mode": {
    "name": "ipython",
    "version": 3
   },
   "file_extension": ".py",
   "mimetype": "text/x-python",
   "name": "python",
   "nbconvert_exporter": "python",
   "pygments_lexer": "ipython3",
   "version": "3.10.13"
  }
 },
 "nbformat": 4,
 "nbformat_minor": 5
}
